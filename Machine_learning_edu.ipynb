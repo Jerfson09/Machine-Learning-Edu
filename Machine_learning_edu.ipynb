{
 "cells": [
  {
   "cell_type": "markdown",
   "metadata": {},
   "source": [
    "# Elementary Education Early Intervention\n"
   ]
  },
  {
   "cell_type": "markdown",
   "metadata": {},
   "source": [
    "Problem Statement:<br>\n",
    "Students are taking three district standard thest every year. However, teachers tend to address issues that students may have towards the later part of the year (usually after the second test). Although this is helpful, it would be more useful if teachers could identify students in need of additional intervention at an earlier stage within the school year. My goal will be to use machine learning to help teachers identify which student needs early intervention after the first test (within the first marking period). This would allow teachers the ability to work with the students in problem areas in hopes of producing higher test scores."
   ]
  },
  {
   "cell_type": "markdown",
   "metadata": {},
   "source": [
    "# Import Libraries\n",
    "\n"
   ]
  },
  {
   "cell_type": "code",
   "execution_count": 23,
   "metadata": {},
   "outputs": [],
   "source": [
    "import numpy as np \n",
    "import pandas as pd\n",
    "import matplotlib.pyplot as plt\n",
    "import seaborn as sns"
   ]
  },
  {
   "cell_type": "markdown",
   "metadata": {},
   "source": [
    "# Data Ingestion\n"
   ]
  },
  {
   "cell_type": "code",
   "execution_count": 22,
   "metadata": {},
   "outputs": [
    {
     "data": {
      "text/html": [
       "<div>\n",
       "<style scoped>\n",
       "    .dataframe tbody tr th:only-of-type {\n",
       "        vertical-align: middle;\n",
       "    }\n",
       "\n",
       "    .dataframe tbody tr th {\n",
       "        vertical-align: top;\n",
       "    }\n",
       "\n",
       "    .dataframe thead th {\n",
       "        text-align: right;\n",
       "    }\n",
       "</style>\n",
       "<table border=\"1\" class=\"dataframe\">\n",
       "  <thead>\n",
       "    <tr style=\"text-align: right;\">\n",
       "      <th></th>\n",
       "      <th>Student Name</th>\n",
       "      <th>Student Id</th>\n",
       "      <th>Gender</th>\n",
       "      <th>ESE Primary Exceptionality</th>\n",
       "      <th>Teacher</th>\n",
       "      <th>Ethnicity</th>\n",
       "      <th>22/23 FAST PM3 Scale Score</th>\n",
       "      <th>22/23 FAST PM3 Achievement Level</th>\n",
       "      <th>23/24 FAST PM1 Scale Score</th>\n",
       "      <th>23/24 FAST PM1 Achievement Level</th>\n",
       "      <th>23/24 FAST PM2 Scale Score</th>\n",
       "      <th>23/24 FAST PM2 Achievement Level</th>\n",
       "      <th>23/24 FAST PM3 Scale Score</th>\n",
       "      <th>23/24 FAST PM3 Achievement Level</th>\n",
       "      <th>Quarter 1 Grade</th>\n",
       "      <th>Quarter 2 Grade</th>\n",
       "      <th>Quarter 3 Grade</th>\n",
       "      <th>Quarter 4 Grade</th>\n",
       "      <th>Final Grade</th>\n",
       "    </tr>\n",
       "  </thead>\n",
       "  <tbody>\n",
       "    <tr>\n",
       "      <th>0</th>\n",
       "      <td>Addison, Kendrick</td>\n",
       "      <td>20075802</td>\n",
       "      <td>M</td>\n",
       "      <td>Specific Learning Disability</td>\n",
       "      <td>Rogers</td>\n",
       "      <td>African American</td>\n",
       "      <td>NaN</td>\n",
       "      <td>NaN</td>\n",
       "      <td>155.0</td>\n",
       "      <td>1.0</td>\n",
       "      <td>155.0</td>\n",
       "      <td>1.0</td>\n",
       "      <td>172.0</td>\n",
       "      <td>1.0</td>\n",
       "      <td>0.6</td>\n",
       "      <td>0.61</td>\n",
       "      <td>0.6</td>\n",
       "      <td>0.62</td>\n",
       "      <td>61</td>\n",
       "    </tr>\n",
       "    <tr>\n",
       "      <th>1</th>\n",
       "      <td>Allen, Demetri</td>\n",
       "      <td>20105857</td>\n",
       "      <td>M</td>\n",
       "      <td>?</td>\n",
       "      <td>Jenkins</td>\n",
       "      <td>African American</td>\n",
       "      <td>NaN</td>\n",
       "      <td>NaN</td>\n",
       "      <td>194.0</td>\n",
       "      <td>1.0</td>\n",
       "      <td>203.0</td>\n",
       "      <td>2.0</td>\n",
       "      <td>206.0</td>\n",
       "      <td>2.0</td>\n",
       "      <td>78.0</td>\n",
       "      <td>78.00</td>\n",
       "      <td>81.0</td>\n",
       "      <td>70.00</td>\n",
       "      <td>77</td>\n",
       "    </tr>\n",
       "    <tr>\n",
       "      <th>2</th>\n",
       "      <td>Arnold, Jackson</td>\n",
       "      <td>20142757</td>\n",
       "      <td>M</td>\n",
       "      <td>?</td>\n",
       "      <td>Queen</td>\n",
       "      <td>African American</td>\n",
       "      <td>219.0</td>\n",
       "      <td>4.0</td>\n",
       "      <td>213.0</td>\n",
       "      <td>3.0</td>\n",
       "      <td>222.0</td>\n",
       "      <td>4.0</td>\n",
       "      <td>238.0</td>\n",
       "      <td>5.0</td>\n",
       "      <td>91.0</td>\n",
       "      <td>87.00</td>\n",
       "      <td>90.0</td>\n",
       "      <td>90.00</td>\n",
       "      <td>90</td>\n",
       "    </tr>\n",
       "    <tr>\n",
       "      <th>3</th>\n",
       "      <td>Backmon, Blair</td>\n",
       "      <td>20098882</td>\n",
       "      <td>F</td>\n",
       "      <td>?</td>\n",
       "      <td>Queen</td>\n",
       "      <td>African American</td>\n",
       "      <td>190.0</td>\n",
       "      <td>2.0</td>\n",
       "      <td>191.0</td>\n",
       "      <td>1.0</td>\n",
       "      <td>203.0</td>\n",
       "      <td>2.0</td>\n",
       "      <td>215.0</td>\n",
       "      <td>3.0</td>\n",
       "      <td>70.0</td>\n",
       "      <td>78.00</td>\n",
       "      <td>84.0</td>\n",
       "      <td>93.00</td>\n",
       "      <td>81</td>\n",
       "    </tr>\n",
       "    <tr>\n",
       "      <th>4</th>\n",
       "      <td>Bagley, Zamiyah</td>\n",
       "      <td>20169020</td>\n",
       "      <td>F</td>\n",
       "      <td>?</td>\n",
       "      <td>Rogers</td>\n",
       "      <td>African American</td>\n",
       "      <td>181.0</td>\n",
       "      <td>1.0</td>\n",
       "      <td>187.0</td>\n",
       "      <td>1.0</td>\n",
       "      <td>197.0</td>\n",
       "      <td>1.0</td>\n",
       "      <td>216.0</td>\n",
       "      <td>3.0</td>\n",
       "      <td>65.0</td>\n",
       "      <td>70.00</td>\n",
       "      <td>70.0</td>\n",
       "      <td>79.00</td>\n",
       "      <td>71</td>\n",
       "    </tr>\n",
       "    <tr>\n",
       "      <th>...</th>\n",
       "      <td>...</td>\n",
       "      <td>...</td>\n",
       "      <td>...</td>\n",
       "      <td>...</td>\n",
       "      <td>...</td>\n",
       "      <td>...</td>\n",
       "      <td>...</td>\n",
       "      <td>...</td>\n",
       "      <td>...</td>\n",
       "      <td>...</td>\n",
       "      <td>...</td>\n",
       "      <td>...</td>\n",
       "      <td>...</td>\n",
       "      <td>...</td>\n",
       "      <td>...</td>\n",
       "      <td>...</td>\n",
       "      <td>...</td>\n",
       "      <td>...</td>\n",
       "      <td>...</td>\n",
       "    </tr>\n",
       "    <tr>\n",
       "      <th>119</th>\n",
       "      <td>White, Kaden</td>\n",
       "      <td>20078051</td>\n",
       "      <td>M</td>\n",
       "      <td>?</td>\n",
       "      <td>Jenkins</td>\n",
       "      <td>African American</td>\n",
       "      <td>206.0</td>\n",
       "      <td>3.0</td>\n",
       "      <td>199.0</td>\n",
       "      <td>1.0</td>\n",
       "      <td>219.0</td>\n",
       "      <td>3.0</td>\n",
       "      <td>225.0</td>\n",
       "      <td>4.0</td>\n",
       "      <td>88.0</td>\n",
       "      <td>89.00</td>\n",
       "      <td>86.0</td>\n",
       "      <td>87.00</td>\n",
       "      <td>88</td>\n",
       "    </tr>\n",
       "    <tr>\n",
       "      <th>120</th>\n",
       "      <td>Williams, Raquelle</td>\n",
       "      <td>20124967</td>\n",
       "      <td>F</td>\n",
       "      <td>?</td>\n",
       "      <td>Rogers</td>\n",
       "      <td>African American</td>\n",
       "      <td>NaN</td>\n",
       "      <td>NaN</td>\n",
       "      <td>177.0</td>\n",
       "      <td>1.0</td>\n",
       "      <td>195.0</td>\n",
       "      <td>1.0</td>\n",
       "      <td>211.0</td>\n",
       "      <td>3.0</td>\n",
       "      <td>77.0</td>\n",
       "      <td>70.00</td>\n",
       "      <td>72.0</td>\n",
       "      <td>83.00</td>\n",
       "      <td>76</td>\n",
       "    </tr>\n",
       "    <tr>\n",
       "      <th>121</th>\n",
       "      <td>Williams, Skylar</td>\n",
       "      <td>20051569</td>\n",
       "      <td>F</td>\n",
       "      <td>?</td>\n",
       "      <td>Queen</td>\n",
       "      <td>African American</td>\n",
       "      <td>205.0</td>\n",
       "      <td>3.0</td>\n",
       "      <td>191.0</td>\n",
       "      <td>1.0</td>\n",
       "      <td>206.0</td>\n",
       "      <td>2.0</td>\n",
       "      <td>219.0</td>\n",
       "      <td>3.0</td>\n",
       "      <td>80.0</td>\n",
       "      <td>82.00</td>\n",
       "      <td>78.0</td>\n",
       "      <td>78.00</td>\n",
       "      <td>80</td>\n",
       "    </tr>\n",
       "    <tr>\n",
       "      <th>122</th>\n",
       "      <td>Wilson, Kyleigh</td>\n",
       "      <td>20195531</td>\n",
       "      <td>F</td>\n",
       "      <td>?</td>\n",
       "      <td>Jenkins</td>\n",
       "      <td>African American</td>\n",
       "      <td>190.0</td>\n",
       "      <td>2.0</td>\n",
       "      <td>180.0</td>\n",
       "      <td>1.0</td>\n",
       "      <td>210.0</td>\n",
       "      <td>2.0</td>\n",
       "      <td>222.0</td>\n",
       "      <td>4.0</td>\n",
       "      <td>90.0</td>\n",
       "      <td>90.00</td>\n",
       "      <td>92.0</td>\n",
       "      <td>81.00</td>\n",
       "      <td>88</td>\n",
       "    </tr>\n",
       "    <tr>\n",
       "      <th>123</th>\n",
       "      <td>Wilson, Royal</td>\n",
       "      <td>20082753</td>\n",
       "      <td>M</td>\n",
       "      <td>?</td>\n",
       "      <td>Queen</td>\n",
       "      <td>African American</td>\n",
       "      <td>197.0</td>\n",
       "      <td>2.0</td>\n",
       "      <td>189.0</td>\n",
       "      <td>1.0</td>\n",
       "      <td>206.0</td>\n",
       "      <td>2.0</td>\n",
       "      <td>213.0</td>\n",
       "      <td>3.0</td>\n",
       "      <td>77.0</td>\n",
       "      <td>78.00</td>\n",
       "      <td>74.0</td>\n",
       "      <td>70.00</td>\n",
       "      <td>75</td>\n",
       "    </tr>\n",
       "  </tbody>\n",
       "</table>\n",
       "<p>124 rows × 19 columns</p>\n",
       "</div>"
      ],
      "text/plain": [
       "           Student Name  Student Id Gender    ESE Primary Exceptionality  \\\n",
       "0     Addison, Kendrick    20075802      M  Specific Learning Disability   \n",
       "1        Allen, Demetri    20105857      M                             ?   \n",
       "2       Arnold, Jackson    20142757      M                             ?   \n",
       "3        Backmon, Blair    20098882      F                             ?   \n",
       "4       Bagley, Zamiyah    20169020      F                             ?   \n",
       "..                  ...         ...    ...                           ...   \n",
       "119        White, Kaden    20078051      M                             ?   \n",
       "120  Williams, Raquelle    20124967      F                             ?   \n",
       "121    Williams, Skylar    20051569      F                             ?   \n",
       "122     Wilson, Kyleigh    20195531      F                             ?   \n",
       "123       Wilson, Royal    20082753      M                             ?   \n",
       "\n",
       "     Teacher         Ethnicity  22/23 FAST PM3 Scale Score  \\\n",
       "0     Rogers  African American                         NaN   \n",
       "1    Jenkins  African American                         NaN   \n",
       "2      Queen  African American                       219.0   \n",
       "3      Queen  African American                       190.0   \n",
       "4     Rogers  African American                       181.0   \n",
       "..       ...               ...                         ...   \n",
       "119  Jenkins  African American                       206.0   \n",
       "120   Rogers  African American                         NaN   \n",
       "121    Queen  African American                       205.0   \n",
       "122  Jenkins  African American                       190.0   \n",
       "123    Queen  African American                       197.0   \n",
       "\n",
       "     22/23 FAST PM3 Achievement Level  23/24 FAST PM1 Scale Score  \\\n",
       "0                                 NaN                       155.0   \n",
       "1                                 NaN                       194.0   \n",
       "2                                 4.0                       213.0   \n",
       "3                                 2.0                       191.0   \n",
       "4                                 1.0                       187.0   \n",
       "..                                ...                         ...   \n",
       "119                               3.0                       199.0   \n",
       "120                               NaN                       177.0   \n",
       "121                               3.0                       191.0   \n",
       "122                               2.0                       180.0   \n",
       "123                               2.0                       189.0   \n",
       "\n",
       "     23/24 FAST PM1 Achievement Level  23/24 FAST PM2 Scale Score  \\\n",
       "0                                 1.0                       155.0   \n",
       "1                                 1.0                       203.0   \n",
       "2                                 3.0                       222.0   \n",
       "3                                 1.0                       203.0   \n",
       "4                                 1.0                       197.0   \n",
       "..                                ...                         ...   \n",
       "119                               1.0                       219.0   \n",
       "120                               1.0                       195.0   \n",
       "121                               1.0                       206.0   \n",
       "122                               1.0                       210.0   \n",
       "123                               1.0                       206.0   \n",
       "\n",
       "     23/24 FAST PM2 Achievement Level  23/24 FAST PM3 Scale Score  \\\n",
       "0                                 1.0                       172.0   \n",
       "1                                 2.0                       206.0   \n",
       "2                                 4.0                       238.0   \n",
       "3                                 2.0                       215.0   \n",
       "4                                 1.0                       216.0   \n",
       "..                                ...                         ...   \n",
       "119                               3.0                       225.0   \n",
       "120                               1.0                       211.0   \n",
       "121                               2.0                       219.0   \n",
       "122                               2.0                       222.0   \n",
       "123                               2.0                       213.0   \n",
       "\n",
       "     23/24 FAST PM3 Achievement Level  Quarter 1 Grade  Quarter 2 Grade  \\\n",
       "0                                 1.0              0.6             0.61   \n",
       "1                                 2.0             78.0            78.00   \n",
       "2                                 5.0             91.0            87.00   \n",
       "3                                 3.0             70.0            78.00   \n",
       "4                                 3.0             65.0            70.00   \n",
       "..                                ...              ...              ...   \n",
       "119                               4.0             88.0            89.00   \n",
       "120                               3.0             77.0            70.00   \n",
       "121                               3.0             80.0            82.00   \n",
       "122                               4.0             90.0            90.00   \n",
       "123                               3.0             77.0            78.00   \n",
       "\n",
       "     Quarter 3 Grade  Quarter 4 Grade  Final Grade  \n",
       "0                0.6             0.62           61  \n",
       "1               81.0            70.00           77  \n",
       "2               90.0            90.00           90  \n",
       "3               84.0            93.00           81  \n",
       "4               70.0            79.00           71  \n",
       "..               ...              ...          ...  \n",
       "119             86.0            87.00           88  \n",
       "120             72.0            83.00           76  \n",
       "121             78.0            78.00           80  \n",
       "122             92.0            81.00           88  \n",
       "123             74.0            70.00           75  \n",
       "\n",
       "[124 rows x 19 columns]"
      ]
     },
     "execution_count": 22,
     "metadata": {},
     "output_type": "execute_result"
    }
   ],
   "source": [
    "data = pd.read_excel(\"Data for Summer Project (1).xlsx\")\n",
    "data"
   ]
  },
  {
   "cell_type": "code",
   "execution_count": 24,
   "metadata": {},
   "outputs": [
    {
     "data": {
      "text/html": [
       "<div>\n",
       "<style scoped>\n",
       "    .dataframe tbody tr th:only-of-type {\n",
       "        vertical-align: middle;\n",
       "    }\n",
       "\n",
       "    .dataframe tbody tr th {\n",
       "        vertical-align: top;\n",
       "    }\n",
       "\n",
       "    .dataframe thead th {\n",
       "        text-align: right;\n",
       "    }\n",
       "</style>\n",
       "<table border=\"1\" class=\"dataframe\">\n",
       "  <thead>\n",
       "    <tr style=\"text-align: right;\">\n",
       "      <th></th>\n",
       "      <th>Student Id</th>\n",
       "      <th>22/23 FAST PM3 Scale Score</th>\n",
       "      <th>22/23 FAST PM3 Achievement Level</th>\n",
       "      <th>23/24 FAST PM1 Scale Score</th>\n",
       "      <th>23/24 FAST PM1 Achievement Level</th>\n",
       "      <th>23/24 FAST PM2 Scale Score</th>\n",
       "      <th>23/24 FAST PM2 Achievement Level</th>\n",
       "      <th>23/24 FAST PM3 Scale Score</th>\n",
       "      <th>23/24 FAST PM3 Achievement Level</th>\n",
       "      <th>Quarter 1 Grade</th>\n",
       "      <th>Quarter 2 Grade</th>\n",
       "      <th>Quarter 3 Grade</th>\n",
       "      <th>Quarter 4 Grade</th>\n",
       "      <th>Final Grade</th>\n",
       "    </tr>\n",
       "  </thead>\n",
       "  <tbody>\n",
       "    <tr>\n",
       "      <th>count</th>\n",
       "      <td>1.240000e+02</td>\n",
       "      <td>108.000000</td>\n",
       "      <td>108.000000</td>\n",
       "      <td>117.000000</td>\n",
       "      <td>117.000000</td>\n",
       "      <td>120.000000</td>\n",
       "      <td>120.000000</td>\n",
       "      <td>123.000000</td>\n",
       "      <td>123.000000</td>\n",
       "      <td>109.000000</td>\n",
       "      <td>113.000000</td>\n",
       "      <td>121.000000</td>\n",
       "      <td>124.000000</td>\n",
       "      <td>124.000000</td>\n",
       "    </tr>\n",
       "    <tr>\n",
       "      <th>mean</th>\n",
       "      <td>1.955965e+07</td>\n",
       "      <td>198.916667</td>\n",
       "      <td>2.842593</td>\n",
       "      <td>187.504274</td>\n",
       "      <td>1.307692</td>\n",
       "      <td>203.983333</td>\n",
       "      <td>2.258333</td>\n",
       "      <td>214.528455</td>\n",
       "      <td>2.967480</td>\n",
       "      <td>80.390826</td>\n",
       "      <td>79.067345</td>\n",
       "      <td>79.690909</td>\n",
       "      <td>79.803387</td>\n",
       "      <td>80.040323</td>\n",
       "    </tr>\n",
       "    <tr>\n",
       "      <th>std</th>\n",
       "      <td>3.171163e+06</td>\n",
       "      <td>21.490761</td>\n",
       "      <td>1.185284</td>\n",
       "      <td>17.628163</td>\n",
       "      <td>0.622309</td>\n",
       "      <td>18.775535</td>\n",
       "      <td>1.118942</td>\n",
       "      <td>20.594972</td>\n",
       "      <td>1.279952</td>\n",
       "      <td>13.783280</td>\n",
       "      <td>13.839798</td>\n",
       "      <td>13.789730</td>\n",
       "      <td>14.020134</td>\n",
       "      <td>10.976989</td>\n",
       "    </tr>\n",
       "    <tr>\n",
       "      <th>min</th>\n",
       "      <td>0.000000e+00</td>\n",
       "      <td>140.000000</td>\n",
       "      <td>1.000000</td>\n",
       "      <td>155.000000</td>\n",
       "      <td>1.000000</td>\n",
       "      <td>155.000000</td>\n",
       "      <td>1.000000</td>\n",
       "      <td>155.000000</td>\n",
       "      <td>1.000000</td>\n",
       "      <td>0.600000</td>\n",
       "      <td>0.610000</td>\n",
       "      <td>0.600000</td>\n",
       "      <td>0.620000</td>\n",
       "      <td>54.000000</td>\n",
       "    </tr>\n",
       "    <tr>\n",
       "      <th>25%</th>\n",
       "      <td>2.008003e+07</td>\n",
       "      <td>190.000000</td>\n",
       "      <td>2.000000</td>\n",
       "      <td>178.000000</td>\n",
       "      <td>1.000000</td>\n",
       "      <td>196.000000</td>\n",
       "      <td>1.000000</td>\n",
       "      <td>205.000000</td>\n",
       "      <td>2.000000</td>\n",
       "      <td>74.000000</td>\n",
       "      <td>73.000000</td>\n",
       "      <td>72.000000</td>\n",
       "      <td>71.000000</td>\n",
       "      <td>72.000000</td>\n",
       "    </tr>\n",
       "    <tr>\n",
       "      <th>50%</th>\n",
       "      <td>2.010112e+07</td>\n",
       "      <td>202.000000</td>\n",
       "      <td>3.000000</td>\n",
       "      <td>191.000000</td>\n",
       "      <td>1.000000</td>\n",
       "      <td>206.000000</td>\n",
       "      <td>2.000000</td>\n",
       "      <td>217.000000</td>\n",
       "      <td>3.000000</td>\n",
       "      <td>83.000000</td>\n",
       "      <td>81.000000</td>\n",
       "      <td>82.000000</td>\n",
       "      <td>81.000000</td>\n",
       "      <td>81.000000</td>\n",
       "    </tr>\n",
       "    <tr>\n",
       "      <th>75%</th>\n",
       "      <td>2.011207e+07</td>\n",
       "      <td>214.250000</td>\n",
       "      <td>4.000000</td>\n",
       "      <td>199.000000</td>\n",
       "      <td>1.000000</td>\n",
       "      <td>216.250000</td>\n",
       "      <td>3.000000</td>\n",
       "      <td>226.500000</td>\n",
       "      <td>4.000000</td>\n",
       "      <td>91.000000</td>\n",
       "      <td>89.000000</td>\n",
       "      <td>89.000000</td>\n",
       "      <td>90.000000</td>\n",
       "      <td>88.000000</td>\n",
       "    </tr>\n",
       "    <tr>\n",
       "      <th>max</th>\n",
       "      <td>2.023824e+07</td>\n",
       "      <td>238.000000</td>\n",
       "      <td>5.000000</td>\n",
       "      <td>229.000000</td>\n",
       "      <td>4.000000</td>\n",
       "      <td>255.000000</td>\n",
       "      <td>5.000000</td>\n",
       "      <td>265.000000</td>\n",
       "      <td>5.000000</td>\n",
       "      <td>98.000000</td>\n",
       "      <td>97.000000</td>\n",
       "      <td>100.000000</td>\n",
       "      <td>101.000000</td>\n",
       "      <td>97.000000</td>\n",
       "    </tr>\n",
       "  </tbody>\n",
       "</table>\n",
       "</div>"
      ],
      "text/plain": [
       "         Student Id  22/23 FAST PM3 Scale Score  \\\n",
       "count  1.240000e+02                  108.000000   \n",
       "mean   1.955965e+07                  198.916667   \n",
       "std    3.171163e+06                   21.490761   \n",
       "min    0.000000e+00                  140.000000   \n",
       "25%    2.008003e+07                  190.000000   \n",
       "50%    2.010112e+07                  202.000000   \n",
       "75%    2.011207e+07                  214.250000   \n",
       "max    2.023824e+07                  238.000000   \n",
       "\n",
       "       22/23 FAST PM3 Achievement Level  23/24 FAST PM1 Scale Score  \\\n",
       "count                        108.000000                  117.000000   \n",
       "mean                           2.842593                  187.504274   \n",
       "std                            1.185284                   17.628163   \n",
       "min                            1.000000                  155.000000   \n",
       "25%                            2.000000                  178.000000   \n",
       "50%                            3.000000                  191.000000   \n",
       "75%                            4.000000                  199.000000   \n",
       "max                            5.000000                  229.000000   \n",
       "\n",
       "       23/24 FAST PM1 Achievement Level  23/24 FAST PM2 Scale Score  \\\n",
       "count                        117.000000                  120.000000   \n",
       "mean                           1.307692                  203.983333   \n",
       "std                            0.622309                   18.775535   \n",
       "min                            1.000000                  155.000000   \n",
       "25%                            1.000000                  196.000000   \n",
       "50%                            1.000000                  206.000000   \n",
       "75%                            1.000000                  216.250000   \n",
       "max                            4.000000                  255.000000   \n",
       "\n",
       "       23/24 FAST PM2 Achievement Level  23/24 FAST PM3 Scale Score  \\\n",
       "count                        120.000000                  123.000000   \n",
       "mean                           2.258333                  214.528455   \n",
       "std                            1.118942                   20.594972   \n",
       "min                            1.000000                  155.000000   \n",
       "25%                            1.000000                  205.000000   \n",
       "50%                            2.000000                  217.000000   \n",
       "75%                            3.000000                  226.500000   \n",
       "max                            5.000000                  265.000000   \n",
       "\n",
       "       23/24 FAST PM3 Achievement Level  Quarter 1 Grade  Quarter 2 Grade  \\\n",
       "count                        123.000000       109.000000       113.000000   \n",
       "mean                           2.967480        80.390826        79.067345   \n",
       "std                            1.279952        13.783280        13.839798   \n",
       "min                            1.000000         0.600000         0.610000   \n",
       "25%                            2.000000        74.000000        73.000000   \n",
       "50%                            3.000000        83.000000        81.000000   \n",
       "75%                            4.000000        91.000000        89.000000   \n",
       "max                            5.000000        98.000000        97.000000   \n",
       "\n",
       "       Quarter 3 Grade  Quarter 4 Grade  Final Grade  \n",
       "count       121.000000       124.000000   124.000000  \n",
       "mean         79.690909        79.803387    80.040323  \n",
       "std          13.789730        14.020134    10.976989  \n",
       "min           0.600000         0.620000    54.000000  \n",
       "25%          72.000000        71.000000    72.000000  \n",
       "50%          82.000000        81.000000    81.000000  \n",
       "75%          89.000000        90.000000    88.000000  \n",
       "max         100.000000       101.000000    97.000000  "
      ]
     },
     "execution_count": 24,
     "metadata": {},
     "output_type": "execute_result"
    }
   ],
   "source": [
    "data.describe()"
   ]
  },
  {
   "cell_type": "markdown",
   "metadata": {},
   "source": [
    "# Analysis of the Data"
   ]
  },
  {
   "cell_type": "code",
   "execution_count": 25,
   "metadata": {},
   "outputs": [
    {
     "name": "stdout",
     "output_type": "stream",
     "text": [
      "<class 'pandas.core.frame.DataFrame'>\n",
      "RangeIndex: 124 entries, 0 to 123\n",
      "Data columns (total 19 columns):\n",
      " #   Column                            Non-Null Count  Dtype  \n",
      "---  ------                            --------------  -----  \n",
      " 0   Student Name                      124 non-null    object \n",
      " 1   Student Id                        124 non-null    int64  \n",
      " 2   Gender                            124 non-null    object \n",
      " 3   ESE Primary Exceptionality        124 non-null    object \n",
      " 4   Teacher                           124 non-null    object \n",
      " 5   Ethnicity                         124 non-null    object \n",
      " 6   22/23 FAST PM3 Scale Score        108 non-null    float64\n",
      " 7   22/23 FAST PM3 Achievement Level  108 non-null    float64\n",
      " 8   23/24 FAST PM1 Scale Score        117 non-null    float64\n",
      " 9   23/24 FAST PM1 Achievement Level  117 non-null    float64\n",
      " 10  23/24 FAST PM2 Scale Score        120 non-null    float64\n",
      " 11  23/24 FAST PM2 Achievement Level  120 non-null    float64\n",
      " 12  23/24 FAST PM3 Scale Score        123 non-null    float64\n",
      " 13  23/24 FAST PM3 Achievement Level  123 non-null    float64\n",
      " 14  Quarter 1 Grade                   109 non-null    float64\n",
      " 15  Quarter 2 Grade                   113 non-null    float64\n",
      " 16  Quarter 3 Grade                   121 non-null    float64\n",
      " 17  Quarter 4 Grade                   124 non-null    float64\n",
      " 18  Final Grade                       124 non-null    int64  \n",
      "dtypes: float64(12), int64(2), object(5)\n",
      "memory usage: 18.5+ KB\n"
     ]
    }
   ],
   "source": [
    "data.info()"
   ]
  },
  {
   "cell_type": "code",
   "execution_count": 26,
   "metadata": {},
   "outputs": [
    {
     "data": {
      "text/plain": [
       "Index(['Student Name', 'Student Id', 'Gender', 'ESE Primary Exceptionality',\n",
       "       'Teacher', 'Ethnicity', '22/23 FAST PM3 Scale Score',\n",
       "       '22/23 FAST PM3 Achievement Level', '23/24 FAST PM1 Scale Score',\n",
       "       '23/24 FAST PM1 Achievement Level', '23/24 FAST PM2 Scale Score',\n",
       "       '23/24 FAST PM2 Achievement Level', '23/24 FAST PM3 Scale Score',\n",
       "       '23/24 FAST PM3 Achievement Level', 'Quarter 1 Grade',\n",
       "       'Quarter 2 Grade', 'Quarter 3 Grade', 'Quarter 4 Grade', 'Final Grade'],\n",
       "      dtype='object')"
      ]
     },
     "execution_count": 26,
     "metadata": {},
     "output_type": "execute_result"
    }
   ],
   "source": [
    "data.columns"
   ]
  },
  {
   "cell_type": "markdown",
   "metadata": {},
   "source": [
    "# Exploratory Data Analysis"
   ]
  },
  {
   "cell_type": "markdown",
   "metadata": {},
   "source": [
    "## Missing Values"
   ]
  },
  {
   "cell_type": "code",
   "execution_count": 27,
   "metadata": {},
   "outputs": [
    {
     "data": {
      "text/plain": [
       "Student Name                         0\n",
       "Student Id                           0\n",
       "Gender                               0\n",
       "ESE Primary Exceptionality           0\n",
       "Teacher                              0\n",
       "Ethnicity                            0\n",
       "22/23 FAST PM3 Scale Score          16\n",
       "22/23 FAST PM3 Achievement Level    16\n",
       "23/24 FAST PM1 Scale Score           7\n",
       "23/24 FAST PM1 Achievement Level     7\n",
       "23/24 FAST PM2 Scale Score           4\n",
       "23/24 FAST PM2 Achievement Level     4\n",
       "23/24 FAST PM3 Scale Score           1\n",
       "23/24 FAST PM3 Achievement Level     1\n",
       "Quarter 1 Grade                     15\n",
       "Quarter 2 Grade                     11\n",
       "Quarter 3 Grade                      3\n",
       "Quarter 4 Grade                      0\n",
       "Final Grade                          0\n",
       "dtype: int64"
      ]
     },
     "execution_count": 27,
     "metadata": {},
     "output_type": "execute_result"
    }
   ],
   "source": [
    "data.isnull().sum()"
   ]
  },
  {
   "cell_type": "markdown",
   "metadata": {},
   "source": [
    "Provide explanation, note the approach on missing  values"
   ]
  },
  {
   "cell_type": "markdown",
   "metadata": {},
   "source": [
    "## Data Visualization"
   ]
  },
  {
   "cell_type": "code",
   "execution_count": 36,
   "metadata": {},
   "outputs": [
    {
     "data": {
      "text/plain": [
       "(array([ 5.,  3.,  1.,  5., 11., 20., 25., 20., 14.,  4.]),\n",
       " array([140. , 149.8, 159.6, 169.4, 179.2, 189. , 198.8, 208.6, 218.4,\n",
       "        228.2, 238. ]),\n",
       " <BarContainer object of 10 artists>)"
      ]
     },
     "execution_count": 36,
     "metadata": {},
     "output_type": "execute_result"
    },
    {
     "data": {
      "image/png": "[encoded data removed]",
      "text/plain": [
       "<Figure size 640x480 with 1 Axes>"
      ]
     },
     "metadata": {},
     "output_type": "display_data"
    }
   ],
   "source": [
    "plt.hist(\"22/23 FAST PM3 Scale Score\", data=data)"
   ]
  },
  {
   "cell_type": "code",
   "execution_count": 31,
   "metadata": {},
   "outputs": [
    {
     "data": {
      "text/plain": [
       "(array([55.,  0.,  0.,  0.,  0.,  0.,  0.,  0.,  0., 69.]),\n",
       " array([0. , 0.1, 0.2, 0.3, 0.4, 0.5, 0.6, 0.7, 0.8, 0.9, 1. ]),\n",
       " <BarContainer object of 10 artists>)"
      ]
     },
     "execution_count": 31,
     "metadata": {},
     "output_type": "execute_result"
    },
    {
     "data": {
      "image/png": "[encoded data removed]",
      "text/plain": [
       "<Figure size 640x480 with 1 Axes>"
      ]
     },
     "metadata": {},
     "output_type": "display_data"
    }
   ],
   "source": [
    "plt.hist(\"Gender\", data=data)"
   ]
  },
  {
   "cell_type": "code",
   "execution_count": 34,
   "metadata": {},
   "outputs": [
    {
     "data": {
      "text/plain": [
       "<BarContainer object of 124 artists>"
      ]
     },
     "execution_count": 34,
     "metadata": {},
     "output_type": "execute_result"
    },
    {
     "data": {
      "image/png": "[encoded data removed]",
      "text/plain": [
       "<Figure size 640x480 with 1 Axes>"
      ]
     },
     "metadata": {},
     "output_type": "display_data"
    }
   ],
   "source": [
    "plt.bar(\"Gender\",\"22/23 FAST PM3 Scale Score\", data=data)"
   ]
  },
  {
   "cell_type": "code",
   "execution_count": 43,
   "metadata": {},
   "outputs": [
    {
     "data": {
      "text/plain": [
       "<Axes: xlabel='Gender', ylabel='22/23 FAST PM3 Scale Score'>"
      ]
     },
     "execution_count": 43,
     "metadata": {},
     "output_type": "execute_result"
    },
    {
     "data": {
      "image/png": "[encoded data removed]",
      "text/plain": [
       "<Figure size 640x480 with 1 Axes>"
      ]
     },
     "metadata": {},
     "output_type": "display_data"
    }
   ],
   "source": [
    "sns.boxplot(x=\"Gender\",y=\"22/23 FAST PM3 Scale Score\", data=data)"
   ]
  },
  {
   "cell_type": "markdown",
   "metadata": {},
   "source": [
    "## Corelation Analysis\n"
   ]
  },
  {
   "cell_type": "markdown",
   "metadata": {},
   "source": [
    "## Data Preprocessing"
   ]
  },
  {
   "cell_type": "markdown",
   "metadata": {},
   "source": [
    "### Encoding"
   ]
  },
  {
   "cell_type": "markdown",
   "metadata": {},
   "source": [
    "### Scaling"
   ]
  }
 ],
 "metadata": {
  "kernelspec": {
   "display_name": "Python 3",
   "language": "python",
   "name": "python3"
  },
  "language_info": {
   "codemirror_mode": {
    "name": "ipython",
    "version": 3
   },
   "file_extension": ".py",
   "mimetype": "text/x-python",
   "name": "python",
   "nbconvert_exporter": "python",
   "pygments_lexer": "ipython3",
   "version": "3.12.4"
  }
 },
 "nbformat": 4,
 "nbformat_minor": 2
}
